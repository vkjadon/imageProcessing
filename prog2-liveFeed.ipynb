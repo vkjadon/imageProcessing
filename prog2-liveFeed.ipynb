{
  "nbformat": 4,
  "nbformat_minor": 0,
  "metadata": {
    "colab": {
      "provenance": [],
      "authorship_tag": "ABX9TyOpQ9u0NI3oLOcWopeWcUjX",
      "include_colab_link": true
    },
    "kernelspec": {
      "name": "python3",
      "display_name": "Python 3"
    },
    "language_info": {
      "name": "python"
    }
  },
  "cells": [
    {
      "cell_type": "markdown",
      "metadata": {
        "id": "view-in-github",
        "colab_type": "text"
      },
      "source": [
        "<a href=\"https://colab.research.google.com/github/vkjadon/imageProcessing/blob/main/prog2-liveFeed.ipynb\" target=\"_parent\"><img src=\"https://colab.research.google.com/assets/colab-badge.svg\" alt=\"Open In Colab\"/></a>"
      ]
    },
    {
      "cell_type": "code",
      "source": [
        "from google.colab import drive\n",
        "drive.mount('/content/drive')"
      ],
      "metadata": {
        "colab": {
          "base_uri": "https://localhost:8080/"
        },
        "id": "FmKt1mKjw2qO",
        "outputId": "ca4905f5-2895-4cf6-8d54-58ba2758e541"
      },
      "execution_count": 1,
      "outputs": [
        {
          "output_type": "stream",
          "name": "stdout",
          "text": [
            "Drive already mounted at /content/drive; to attempt to forcibly remount, call drive.mount(\"/content/drive\", force_remount=True).\n"
          ]
        }
      ]
    },
    {
      "cell_type": "code",
      "source": [
        "import cv2\n",
        "import csv\n",
        "import os\n",
        "import time\n",
        "import numpy as np\n",
        "from PIL import Image\n",
        "from google.colab.patches import cv2_imshow"
      ],
      "metadata": {
        "id": "U9AaP3srwyCs"
      },
      "execution_count": 1,
      "outputs": []
    },
    {
      "cell_type": "code",
      "source": [
        "# Load the image\n",
        "image = cv2.imread('/content/drive/MyDrive/dip/testImages/testImage.png')\n",
        "cv2_imshow(image)"
      ],
      "metadata": {
        "colab": {
          "base_uri": "https://localhost:8080/",
          "height": 417
        },
        "id": "hxII85kqw9bA",
        "outputId": "4be355b1-bff8-4483-d099-917aca5d1885"
      },
      "execution_count": 2,
      "outputs": [
        {
          "output_type": "display_data",
          "data": {
            "text/plain": [
              "<PIL.Image.Image image mode=RGB size=300x400>"
            ],
            "image/png": "[encoded data removed]"
          },
          "metadata": {}
        }
      ]
    },
    {
      "cell_type": "code",
      "source": [
        "#Variable for vision source feed\n",
        "visionSource=cv2.VideoCapture(2)\n",
        "\n",
        "#Checking for whether the vision source selected is present or not.\n",
        "#print(visionSource.isOpened())\n",
        "\n",
        "if visionSource.isOpened():\n",
        "    returnFromReadFun,frame=visionSource.read()\n",
        "else:\n",
        "    returnFromReadFun=False\n",
        "    #cv.waitKey(10)\n",
        "    exit()"
      ],
      "metadata": {
        "id": "FFYgSZQuxfaD"
      },
      "execution_count": 3,
      "outputs": []
    },
    {
      "cell_type": "code",
      "execution_count": null,
      "metadata": {
        "id": "KT-3KnVqwh_6"
      },
      "outputs": [],
      "source": [
        "#>>Till here you can also check that you got a single frame(image)<<\n",
        "#Video is defined as a series of single frames(images)\n",
        "print('\\n**Live Feed Window is successfully generated**')\n",
        "print('\\n>>Press \"Esc\" on Live Feed Window to Close')\n",
        "\n",
        "#How to show the live feed(Continual frame showing)\n",
        "while returnFromReadFun:\n",
        "\n",
        "    returnFromReadFun,frame=visionSource.read()\n",
        "\n",
        "    cv2_imshow('Live Feed',frame)\n",
        "\n",
        "    #if we want to exit out from the live feed\n",
        "    k=cv.waitKey(1)\n",
        "    if k==27:\n",
        "        break\n",
        "\n",
        "cv2.destroyWindow('Live Feed')\n",
        "print('\\n**Live Feed Window is successfully closed**')\n",
        "\n",
        "\n",
        "#Release the Vision Source\n",
        "visionSource.release()"
      ]
    }
  ]
}