{
  "nbformat": 4,
  "nbformat_minor": 0,
  "metadata": {
    "colab": {
      "provenance": [],
      "authorship_tag": "ABX9TyP+UTakFXEDjJIz7j1YrY+E",
      "include_colab_link": true
    },
    "kernelspec": {
      "name": "python3",
      "display_name": "Python 3"
    },
    "language_info": {
      "name": "python"
    }
  },
  "cells": [
    {
      "cell_type": "markdown",
      "metadata": {
        "id": "view-in-github",
        "colab_type": "text"
      },
      "source": [
        "<a href=\"https://colab.research.google.com/github/vkjadon/imageProcessing/blob/main/prog1.ipynb\" target=\"_parent\"><img src=\"https://colab.research.google.com/assets/colab-badge.svg\" alt=\"Open In Colab\"/></a>"
      ]
    },
    {
      "cell_type": "code",
      "source": [
        "from google.colab import drive\n",
        "drive.mount('/content/drive')"
      ],
      "metadata": {
        "id": "bW7sXRaT5Nva",
        "outputId": "fb01c998-def2-458d-e657-41b1300b64a5",
        "colab": {
          "base_uri": "https://localhost:8080/"
        }
      },
      "execution_count": 1,
      "outputs": [
        {
          "output_type": "stream",
          "name": "stdout",
          "text": [
            "Mounted at /content/drive\n"
          ]
        }
      ]
    },
    {
      "cell_type": "code",
      "source": [
        "import cv2\n",
        "import csv\n",
        "import os\n",
        "import time\n",
        "import numpy as np\n",
        "from PIL import Image\n",
        "from google.colab.patches import cv2_imshow"
      ],
      "metadata": {
        "id": "EWli0PB55X0u"
      },
      "execution_count": 2,
      "outputs": []
    },
    {
      "cell_type": "code",
      "source": [
        "# Load the image\n",
        "image = cv2.imread('/content/drive/MyDrive/dip/testImages/testImage.png')\n",
        "cv2_imshow(image)"
      ],
      "metadata": {
        "id": "xweHs1UM5e7f"
      },
      "execution_count": null,
      "outputs": []
    },
    {
      "cell_type": "code",
      "source": [
        "# Convert the image to grayscale\n",
        "gray = cv2.cvtColor(image, cv2.COLOR_BGR2GRAY)\n",
        "cv2_imshow(gray)"
      ],
      "metadata": {
        "id": "3jrRR67K6ox8"
      },
      "execution_count": null,
      "outputs": []
    },
    {
      "cell_type": "code",
      "execution_count": null,
      "metadata": {
        "id": "JRV8HrrrqQ_C"
      },
      "outputs": [],
      "source": [
        "#Data Type\n",
        "print('\\nThe Data Type of Image:',image.dtype)\n",
        "\n",
        "#Shape of Image\n",
        "print('\\nThe Shape of Image:',image.shape)\n",
        "\n",
        "#Dimension of Image\n",
        "print('\\nThe Dimension of Image:',image.ndim)\n",
        "\n",
        "#Size of Image\n",
        "print('\\nThe Size of Image(in bytes):',image.size)\n",
        "\n",
        "#Type of Image Matrix\n",
        "print('\\nThe type of Image Variable:',type(image))\n",
        "\n",
        "#Image Matrix\n",
        "print('\\nThe Image Matrix or Array:\\n',image)"
      ]
    },
    {
      "cell_type": "code",
      "source": [],
      "metadata": {
        "id": "qfxl9R4B5Lqh"
      },
      "execution_count": null,
      "outputs": []
    }
  ]
}