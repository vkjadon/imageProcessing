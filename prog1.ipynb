{
  "nbformat": 4,
  "nbformat_minor": 0,
  "metadata": {
    "colab": {
      "provenance": [],
      "authorship_tag": "ABX9TyP7kZJoTEZvdCna3J70PQU1",
      "include_colab_link": true
    },
    "kernelspec": {
      "name": "python3",
      "display_name": "Python 3"
    },
    "language_info": {
      "name": "python"
    }
  },
  "cells": [
    {
      "cell_type": "markdown",
      "metadata": {
        "id": "view-in-github",
        "colab_type": "text"
      },
      "source": [
        "<a href=\"https://colab.research.google.com/github/vkjadon/imageProcessing/blob/main/prog1.ipynb\" target=\"_parent\"><img src=\"https://colab.research.google.com/assets/colab-badge.svg\" alt=\"Open In Colab\"/></a>"
      ]
    },
    {
      "cell_type": "code",
      "source": [
        "from google.colab import drive\n",
        "drive.mount('/content/drive')"
      ],
      "metadata": {
        "id": "bW7sXRaT5Nva",
        "outputId": "4b3f9230-c2f5-4ce4-9bb0-7d25e777bdf7",
        "colab": {
          "base_uri": "https://localhost:8080/"
        }
      },
      "execution_count": 3,
      "outputs": [
        {
          "output_type": "stream",
          "name": "stdout",
          "text": [
            "Drive already mounted at /content/drive; to attempt to forcibly remount, call drive.mount(\"/content/drive\", force_remount=True).\n"
          ]
        }
      ]
    },
    {
      "cell_type": "code",
      "source": [
        "import cv2\n",
        "import numpy as np\n",
        "import matplotlib.pyplot as plt"
      ],
      "metadata": {
        "id": "EWli0PB55X0u"
      },
      "execution_count": 8,
      "outputs": []
    },
    {
      "cell_type": "code",
      "source": [
        "# Load the image\n",
        "image = cv2.imread('/content/drive/MyDrive/dip/testImages/testImage.png')\n",
        "plt.imshow(image)\n",
        "plt.show()"
      ],
      "metadata": {
        "id": "xweHs1UM5e7f",
        "outputId": "4bbf90c2-be17-41e8-c17a-ccb2894e8ef9",
        "colab": {
          "base_uri": "https://localhost:8080/",
          "height": 435
        }
      },
      "execution_count": 22,
      "outputs": [
        {
          "output_type": "display_data",
          "data": {
            "text/plain": [
              "<Figure size 640x480 with 1 Axes>"
            ],
            "image/png": "[encoded data removed]"
          },
          "metadata": {}
        }
      ]
    },
    {
      "cell_type": "code",
      "source": [
        "# Convert the image to grayscale\n",
        "gray = cv2.cvtColor(image, cv2.COLOR_BGR2GRAY)\n",
        "plt.imshow(gray)"
      ],
      "metadata": {
        "id": "7j2cP8MOQ5o9"
      },
      "execution_count": null,
      "outputs": []
    },
    {
      "cell_type": "code",
      "source": [
        "# plt.imshow(img) shown an image with wrong colorspace. we should correct the colorspace\n",
        "image = cv2.cvtColor(image, cv2.COLOR_BGR2RGB)\n",
        "plt.imshow(image)"
      ],
      "metadata": {
        "id": "3jrRR67K6ox8"
      },
      "execution_count": null,
      "outputs": []
    },
    {
      "cell_type": "code",
      "execution_count": null,
      "metadata": {
        "id": "JRV8HrrrqQ_C"
      },
      "outputs": [],
      "source": [
        "#Data Type\n",
        "print('\\nThe Data Type of Image:',image.dtype)\n",
        "\n",
        "#Shape of Image\n",
        "print('\\nThe Shape of Image:',image.shape)\n",
        "\n",
        "#Dimension of Image\n",
        "print('\\nThe Dimension of Image:',image.ndim)\n",
        "\n",
        "#Size of Image\n",
        "print('\\nThe Size of Image(in bytes):',image.size)\n",
        "\n",
        "#Type of Image Matrix\n",
        "print('\\nThe type of Image Variable:',type(image))\n",
        "\n",
        "#Image Matrix\n",
        "print('\\nThe Image Matrix or Array:\\n',image)"
      ]
    },
    {
      "cell_type": "code",
      "source": [
        "#Splitting Channels\n",
        "red=image[:,:,2]\n",
        "print(red)\n",
        "plt.imshow(red)"
      ],
      "metadata": {
        "id": "3vom8oF1mTRg"
      },
      "execution_count": null,
      "outputs": []
    },
    {
      "cell_type": "code",
      "source": [
        "print('\\n**Green Channel Matrix**\\n')\n",
        "green=image[:,:,1]\n",
        "# print(green)\n",
        "plt.imshow(green)"
      ],
      "metadata": {
        "id": "BPdmcnE6nRDq"
      },
      "execution_count": null,
      "outputs": []
    },
    {
      "cell_type": "code",
      "source": [
        "print('\\n**Blue Channel Matrix**\\n')\n",
        "blue=image[:,:,1]\n",
        "print(blue)\n",
        "plt.imshow(blue)"
      ],
      "metadata": {
        "colab": {
          "base_uri": "https://localhost:8080/",
          "height": 631
        },
        "id": "1EQd9-Onn7tP",
        "outputId": "6c30dec1-1059-4a49-f53e-e597da933c04"
      },
      "execution_count": 24,
      "outputs": [
        {
          "output_type": "stream",
          "name": "stdout",
          "text": [
            "\n",
            "**Blue Channel Matrix**\n",
            "\n",
            "[[255 255 255 ... 255 255 255]\n",
            " [255 255 255 ... 255 255 255]\n",
            " [255 255 255 ... 255 255 255]\n",
            " ...\n",
            " [255 255 255 ... 255 255 255]\n",
            " [255 255 255 ... 255 255 255]\n",
            " [255 255 255 ... 255 255 255]]\n"
          ]
        },
        {
          "output_type": "execute_result",
          "data": {
            "text/plain": [
              "<matplotlib.image.AxesImage at 0x7e79df7c16f0>"
            ]
          },
          "metadata": {},
          "execution_count": 24
        },
        {
          "output_type": "display_data",
          "data": {
            "text/plain": [
              "<Figure size 640x480 with 1 Axes>"
            ],
            "image/png": "[encoded data removed]"
          },
          "metadata": {}
        }
      ]
    },
    {
      "cell_type": "code",
      "source": [
        "# Create a black image\n",
        "img = np.zeros((150,150,3), np.uint8)"
      ],
      "metadata": {
        "id": "qfxl9R4B5Lqh"
      },
      "execution_count": 6,
      "outputs": []
    },
    {
      "cell_type": "code",
      "source": [
        "# Draw a diagonal blue line with thickness of 5 px\n",
        "img = cv2.line(img,(0,0),(511,511),(255,0,0),5)"
      ],
      "metadata": {
        "id": "66eqH55cRjiu"
      },
      "execution_count": 7,
      "outputs": []
    },
    {
      "cell_type": "code",
      "source": [
        "# Drawing Rectangle\n",
        "img = cv2.rectangle(img,(384,0),(510,128),(0,255,0),3)"
      ],
      "metadata": {
        "id": "ry-QQBqtRlxH"
      },
      "execution_count": 8,
      "outputs": []
    },
    {
      "cell_type": "code",
      "source": [
        "# Drawing Circle\n",
        "img = cv2.circle(img,(447,63), 63, (0,0,255), -1)"
      ],
      "metadata": {
        "id": "c4qPtQvIRous"
      },
      "execution_count": 9,
      "outputs": []
    },
    {
      "cell_type": "code",
      "source": [
        "# Drawing Ellipse\n",
        "img = cv2.ellipse(img,(256,256),(100,50),0,0,180,255,-1)"
      ],
      "metadata": {
        "id": "Zsp8uhXgRrmm"
      },
      "execution_count": 10,
      "outputs": []
    },
    {
      "cell_type": "code",
      "source": [
        "plt.imshow(img)"
      ],
      "metadata": {
        "id": "Zh0W1emHRbAV",
        "outputId": "b90aa4b1-edcc-47ea-8654-583dd29c6030",
        "colab": {
          "base_uri": "https://localhost:8080/",
          "height": 452
        }
      },
      "execution_count": 11,
      "outputs": [
        {
          "output_type": "execute_result",
          "data": {
            "text/plain": [
              "<matplotlib.image.AxesImage at 0x7ad64e61dea0>"
            ]
          },
          "metadata": {},
          "execution_count": 11
        },
        {
          "output_type": "display_data",
          "data": {
            "text/plain": [
              "<Figure size 640x480 with 1 Axes>"
            ],
            "image/png": "[encoded data removed]"
          },
          "metadata": {}
        }
      ]
    },
    {
      "cell_type": "code",
      "source": [
        "# Drawing Polygon\n",
        "pts = np.array([[10,5],[20,30],[70,20],[50,10]], np.int32)\n",
        "pts = pts.reshape((-1,1,2))\n",
        "img = cv2.polylines(img,[pts],True,(0,255,255))"
      ],
      "metadata": {
        "id": "OT3vfq-sRSC8"
      },
      "execution_count": 13,
      "outputs": []
    },
    {
      "cell_type": "code",
      "source": [
        "#Input the Resolution\n",
        "rows=int(input('Enter the Height of the Viewer Window: '))\n",
        "cols=int(input('\\nEnter the Width of the Viewer Window: '))\n",
        "\n",
        "#Input the R-G-B\n",
        "print('\\n**Note: Please enter the brightness values between(0-255)**')\n",
        "redBrightValue=int(input('\\nEnter the Brightness Value of Red Channel: '))\n",
        "greenBrightValue=int(input('\\nEnter the Brightness Value of Green Channel: '))\n",
        "blueBrightValue=int(input('\\nEnter the Brightness Value of Blue Channel: '))\n",
        "\n",
        "#Matrix Generation of B-G-R\n",
        "blueChannel = np.uint8(np.ones([rows,cols])*blueBrightValue)\n",
        "greenChannel = np.uint8(np.ones([rows,cols])*greenBrightValue)\n",
        "redChannel = np.uint8(np.ones([rows,cols])*redBrightValue)"
      ],
      "metadata": {
        "id": "f8B5Vyi0of68",
        "outputId": "cf231658-cb39-479d-a092-5384daf9cc3e",
        "colab": {
          "base_uri": "https://localhost:8080/"
        }
      },
      "execution_count": 33,
      "outputs": [
        {
          "name": "stdout",
          "output_type": "stream",
          "text": [
            "Enter the Height of the Viewer Window: 100\n",
            "\n",
            "Enter the Width of the Viewer Window: 50\n",
            "\n",
            "**Note: Please enter the brightness values between(0-255)**\n",
            "\n",
            "Enter the Brightness Value of Red Channel: 255\n",
            "\n",
            "Enter the Brightness Value of Green Channel: 0\n",
            "\n",
            "Enter the Brightness Value of Blue Channel: 0\n"
          ]
        }
      ]
    },
    {
      "cell_type": "code",
      "source": [
        "image = cv2.merge([redChannel, greenChannel, blueChannel])\n",
        "# print(image)\n",
        "plt.imshow(image)"
      ],
      "metadata": {
        "id": "pLaE8V2losYK",
        "outputId": "7d367bc9-414e-4a31-b1b0-c0250e9e0061",
        "colab": {
          "base_uri": "https://localhost:8080/",
          "height": 451
        }
      },
      "execution_count": 47,
      "outputs": [
        {
          "output_type": "execute_result",
          "data": {
            "text/plain": [
              "<matplotlib.image.AxesImage at 0x7e79df165090>"
            ]
          },
          "metadata": {},
          "execution_count": 47
        },
        {
          "output_type": "display_data",
          "data": {
            "text/plain": [
              "<Figure size 640x480 with 1 Axes>"
            ],
            "image/png": "[encoded data removed]"
          },
          "metadata": {}
        }
      ]
    },
    {
      "cell_type": "code",
      "source": [
        "color=image[:,:,0]\n",
        "plt.imshow(color)"
      ],
      "metadata": {
        "id": "HcEa45JWpCsE",
        "outputId": "297c399e-f287-436a-ff4f-5a26d39dbd89",
        "colab": {
          "base_uri": "https://localhost:8080/",
          "height": 451
        }
      },
      "execution_count": 45,
      "outputs": [
        {
          "output_type": "execute_result",
          "data": {
            "text/plain": [
              "<matplotlib.image.AxesImage at 0x7e79df00fd60>"
            ]
          },
          "metadata": {},
          "execution_count": 45
        },
        {
          "output_type": "display_data",
          "data": {
            "text/plain": [
              "<Figure size 640x480 with 1 Axes>"
            ],
            "image/png": "[encoded data removed]"
          },
          "metadata": {}
        }
      ]
    }
  ]
}