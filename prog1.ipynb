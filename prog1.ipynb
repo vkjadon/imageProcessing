{
  "nbformat": 4,
  "nbformat_minor": 0,
  "metadata": {
    "colab": {
      "provenance": [],
      "toc_visible": true,
      "authorship_tag": "ABX9TyPIAY7tk6zB+ryX85xfioPO",
      "include_colab_link": true
    },
    "kernelspec": {
      "name": "python3",
      "display_name": "Python 3"
    },
    "language_info": {
      "name": "python"
    }
  },
  "cells": [
    {
      "cell_type": "markdown",
      "metadata": {
        "id": "view-in-github",
        "colab_type": "text"
      },
      "source": [
        "<a href=\"https://colab.research.google.com/github/vkjadon/imageProcessing/blob/main/prog1.ipynb\" target=\"_parent\"><img src=\"https://colab.research.google.com/assets/colab-badge.svg\" alt=\"Open In Colab\"/></a>"
      ]
    },
    {
      "cell_type": "code",
      "execution_count": null,
      "metadata": {
        "id": "JRV8HrrrqQ_C"
      },
      "outputs": [],
      "source": [
        "Introduction to OpenCV\n",
        "import cv2 as cv\n",
        "import numpy as np\n",
        "import headers as hd\n",
        "\n",
        "#Program Head\n",
        "hd.mainhead('Program: Getting Started with Images')\n",
        "\n",
        "#Version Checking\n",
        "hd.mainhead('Version of Modules')\n",
        "print('\\nThe version of imported OpenCV\\'s module:',cv.__version__)\n",
        "print('\\nThe version of imported Numpy\\'s module:',np.__version__)\n",
        "\n",
        "hd.mainhead('Activities')\n",
        "\n",
        "#Specifying Image Path\n",
        "imagePath=\"D:\\\\edu\\\\Masters\\\\Robotics and Humanoids\\\\Vision\\\\Python Programs\\\\testImage.jpg\"\n",
        "#imagePath1=\"testImage.jpg\"\n",
        "\n",
        "#Reading the Image\n",
        "image=cv.imread(imagePath)\n",
        "\n",
        "#Window Creation for displaying with different view options\n",
        "#cv.namedWindow('Read Image',cv.WINDOW_KEEPRATIO)\n",
        "#cv.namedWindow('Read Image')\n",
        "#Showing the Image\n",
        "cv.imshow('Read Image',image)\n",
        "\n",
        "print('\\n**Image Window is successfully generated**')\n",
        "print('\\n>>Press any key to close Image Window and have a look on Image Properties<<')\n",
        "\n",
        "#Closing of Image Window with key press\n",
        "cv.waitKey(0)       #0 is special case in which the statement wait forever. In general the arguement within parenthesis is delay time in ms.\n",
        "cv.destroyWindow('Read Image')\n",
        "\n",
        "print('\\n**Image Window is successfully closed**')\n",
        "\n",
        "#Image Properties\n",
        "hd.mainhead('Image Properties')\n",
        "    #Data Type\n",
        "print('\\nThe Data Type of Image:',image.dtype)\n",
        "    #Shape of Image\n",
        "print('\\nThe Shape of Image:',image.shape)\n",
        "    #Dimension of Image\n",
        "print('\\nThe Dimension of Image:',image.ndim)\n",
        "    #Size of Image\n",
        "print('\\nThe Size of Image(in bytes):',image.size)\n",
        "    #Type of Image Matrix\n",
        "print('\\nThe type of Image Variable:',type(image))\n",
        "    #Image Matrix\n",
        "print('\\nThe Image Matrix or Array:\\n',image)"
      ]
    }
  ]
}